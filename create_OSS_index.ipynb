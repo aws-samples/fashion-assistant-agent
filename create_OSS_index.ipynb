{
 "cells": [
  {
   "cell_type": "markdown",
   "id": "220ba1c4-a628-4c81-afd8-50ae27f8ab56",
   "metadata": {
    "tags": []
   },
   "source": [
    "# Creating a vectorstore with Amazon Bedrock multimodal-embeddings\n",
    "\n",
    "This notebook gives a step-by-step tutorial to populate a vector database in [Opensearch Serverless](https://aws.amazon.com/opensearch-service/features/serverless/). These vector embeddings will be used by the Bedrock Agent to search for similar images in the provided vectorstore.\n",
    "\n",
    "This notebook is required if you would like to the agent to be able to take the `/image_look_up` action, otherwise you can directly run the `Create_Fashion_Agent.ipynb` notebook."
   ]
  },
  {
   "cell_type": "markdown",
   "id": "be0aa57c-e5e3-471c-9459-51e0446609a2",
   "metadata": {},
   "source": [
    "### Environment setup"
   ]
  },
  {
   "cell_type": "markdown",
   "id": "8bf7dfde-27bd-4e43-9377-c6a5e22633c6",
   "metadata": {},
   "source": [
    "This has been tested in `conda_python3` Jupyter Notebook kernel with `ml.t3.medium`\n",
    "\n",
    "### Prerequisite\n",
    "\n",
    "Ensure you have an AWS account with permission to:\n",
    "\n",
    "- Create security policy, access policy, collection, index, index mapping on OpenSearchServerless\n",
    "\n",
    "- BatchGetCollection on OpenSearchServerless\n",
    "\n",
    "#### Install the requirements"
   ]
  },
  {
   "cell_type": "code",
   "execution_count": 1,
   "id": "099bb857-4d07-47d2-b086-3328c2edf31a",
   "metadata": {
    "tags": []
   },
   "outputs": [],
   "source": [
    "!pip install -q opensearch-py --quiet\n",
    "!pip install -q requests_aws4auth --quiet"
   ]
  },
  {
   "cell_type": "markdown",
   "id": "193be29c-1a8c-422e-b3e6-ae1f9abccd53",
   "metadata": {},
   "source": [
    "#### Download the dataset locally"
   ]
  },
  {
   "cell_type": "code",
   "execution_count": 3,
   "id": "e02d7c71-383c-431e-a2eb-bc83f0480297",
   "metadata": {
    "tags": []
   },
   "outputs": [
    {
     "name": "stdout",
     "output_type": "stream",
     "text": [
      "Cloning into 'Fashion-Dataset-Images-Western-Dress'...\n",
      "remote: Enumerating objects: 594, done.\u001b[K\n",
      "remote: Counting objects: 100% (5/5), done.\u001b[K\n",
      "remote: Compressing objects: 100% (5/5), done.\u001b[K\n",
      "remote: Total 594 (delta 1), reused 1 (delta 0), pack-reused 589 (from 1)\u001b[K\n",
      "Receiving objects: 100% (594/594), 118.65 MiB | 35.36 MiB/s, done.\n",
      "Resolving deltas: 100% (1/1), done.\n",
      "Updating files: 100% (584/584), done.\n"
     ]
    }
   ],
   "source": [
    "!git clone https://github.com/orbitalsonic/Fashion-Dataset-Images-Western-Dress.git"
   ]
  },
  {
   "cell_type": "markdown",
   "id": "5b60b8a5-0c89-48d0-a452-9653f315b250",
   "metadata": {},
   "source": [
    "### Add all the dependencies/imports"
   ]
  },
  {
   "cell_type": "code",
   "execution_count": 3,
   "id": "7944bd29-ddae-4b12-965d-9e7499b7ae5e",
   "metadata": {
    "tags": []
   },
   "outputs": [],
   "source": [
    "import os\n",
    "import boto3\n",
    "from opensearchpy import AWSV4SignerAuth, OpenSearch, RequestsHttpConnection\n",
    "from dependencies.opensearch_utils import OpensearchIngestion\n",
    "from dependencies.build_infrastructure_aoss import (\n",
    "    createEncryptionPolicy, \n",
    "    createNetworkPolicy, \n",
    "    createAccessPolicy, \n",
    "    createCollection, \n",
    "    waitForCollectionCreation \n",
    ")\n",
    "from dependencies.config import collection_name, index_name"
   ]
  },
  {
   "cell_type": "code",
   "execution_count": 4,
   "id": "403b640c-c641-46d1-b9ce-a64f4337566f",
   "metadata": {
    "tags": []
   },
   "outputs": [
    {
     "name": "stdout",
     "output_type": "stream",
     "text": [
      "Current IAM Role ARN: arn:aws:sts::525407566630:assumed-role/AmazonSageMaker-ExecutionRole-20240627T165261/SageMaker\n"
     ]
    }
   ],
   "source": [
    "boto3_session = boto3.Session()\n",
    "identity_arn = boto3_session.client('sts').get_caller_identity()['Arn']\n",
    "print(\"Current IAM Role ARN:\", identity_arn)"
   ]
  },
  {
   "cell_type": "code",
   "execution_count": 5,
   "id": "b29ad34d-43ae-4230-9062-1a699134e11c",
   "metadata": {
    "tags": []
   },
   "outputs": [],
   "source": [
    "# create a client for OSS\n",
    "client = boto3.client('opensearchserverless')\n",
    "service = 'aoss'\n",
    "region = boto3_session.region_name\n",
    "credentials = boto3_session.get_credentials()\n",
    "AWSAUTH = AWSV4SignerAuth(credentials, region, \"aoss\")"
   ]
  },
  {
   "cell_type": "markdown",
   "id": "e5aeef30-9985-4428-b4b8-c8fbb1eabbe9",
   "metadata": {
    "tags": []
   },
   "source": [
    "## Create a vector database using Opensearch Serverless\n",
    "\n",
    "#### Create a collection"
   ]
  },
  {
   "cell_type": "code",
   "execution_count": 6,
   "id": "e9361a7a-085a-4e52-a94c-32759091d52d",
   "metadata": {
    "tags": []
   },
   "outputs": [
    {
     "name": "stdout",
     "output_type": "stream",
     "text": [
      "\n",
      "Encryption policy created:\n",
      "{'securityPolicyDetail': {'createdDate': 1727109120677, 'description': 'Encryption policy for fashion-collection-new collections', 'lastModifiedDate': 1727109120677, 'name': 'fashion-collection-new-policy', 'policy': {'Rules': [{'Resource': ['collection/fashion-collection-new*'], 'ResourceType': 'collection'}], 'AWSOwnedKey': True}, 'policyVersion': 'MTcyNzEwOTEyMDY3N18x', 'type': 'encryption'}, 'ResponseMetadata': {'RequestId': 'ce894741-e2d9-4348-a321-77a263bc7502', 'HTTPStatusCode': 200, 'HTTPHeaders': {'x-amzn-requestid': 'ce894741-e2d9-4348-a321-77a263bc7502', 'date': 'Mon, 23 Sep 2024 16:32:00 GMT', 'content-type': 'application/x-amz-json-1.0', 'content-length': '378', 'connection': 'keep-alive'}, 'RetryAttempts': 0}}\n",
      "\n",
      "Network policy created:\n",
      "{'securityPolicyDetail': {'createdDate': 1727109120796, 'description': 'Network policy for fashion-collection-new collections', 'lastModifiedDate': 1727109120796, 'name': 'fashion-collection-new-policy', 'policy': [{'Rules': [{'Resource': ['collection/fashion-collection-new*'], 'ResourceType': 'dashboard'}, {'Resource': ['collection/fashion-collection-new*'], 'ResourceType': 'collection'}], 'AllowFromPublic': True, 'Description': 'Public access for fashion-collection-new collection'}], 'policyVersion': 'MTcyNzEwOTEyMDc5Nl8x', 'type': 'network'}, 'ResponseMetadata': {'RequestId': '8ed9b8c5-5454-4ce4-b643-19da61eb6206', 'HTTPStatusCode': 200, 'HTTPHeaders': {'x-amzn-requestid': '8ed9b8c5-5454-4ce4-b643-19da61eb6206', 'date': 'Mon, 23 Sep 2024 16:32:00 GMT', 'content-type': 'application/x-amz-json-1.0', 'content-length': '525', 'connection': 'keep-alive'}, 'RetryAttempts': 0}}\n",
      "\n",
      "Access policy created:\n",
      "{'accessPolicyDetail': {'createdDate': 1727109120884, 'description': 'Data access policy for mvc collections', 'lastModifiedDate': 1727109120884, 'name': 'fashion-collection-new-policy', 'policy': [{'Rules': [{'Resource': ['index/fashion-collection-new*/*'], 'Permission': ['aoss:CreateIndex', 'aoss:DeleteIndex', 'aoss:UpdateIndex', 'aoss:DescribeIndex', 'aoss:ReadDocument', 'aoss:WriteDocument'], 'ResourceType': 'index'}, {'Resource': ['collection/fashion-collection-new*'], 'Permission': ['aoss:CreateCollectionItems'], 'ResourceType': 'collection'}], 'Principal': ['arn:aws:sts::525407566630:assumed-role/AmazonSageMaker-ExecutionRole-20240627T165261/SageMaker']}], 'policyVersion': 'MTcyNzEwOTEyMDg4NF8x', 'type': 'data'}, 'ResponseMetadata': {'RequestId': 'c411cda1-441d-45c6-a8c3-ae84152d7722', 'HTTPStatusCode': 200, 'HTTPHeaders': {'x-amzn-requestid': 'c411cda1-441d-45c6-a8c3-ae84152d7722', 'date': 'Mon, 23 Sep 2024 16:32:00 GMT', 'content-type': 'application/x-amz-json-1.0', 'content-length': '696', 'connection': 'keep-alive'}, 'RetryAttempts': 0}}\n",
      "Creating collection...\n",
      "Creating collection...\n",
      "Creating collection...\n",
      "Creating collection...\n",
      "Creating collection...\n",
      "Creating collection...\n",
      "Creating collection...\n",
      "Creating collection...\n",
      "Creating collection...\n",
      "\n",
      "Collection successfully created:\n",
      "[{'arn': 'arn:aws:aoss:us-east-1:525407566630:collection/gbwzu10kwdcxw1kqiu2d', 'collectionEndpoint': 'https://gbwzu10kwdcxw1kqiu2d.us-east-1.aoss.amazonaws.com', 'createdDate': 1727109120962, 'dashboardEndpoint': 'https://gbwzu10kwdcxw1kqiu2d.us-east-1.aoss.amazonaws.com/_dashboards', 'id': 'gbwzu10kwdcxw1kqiu2d', 'kmsKeyArn': 'auto', 'lastModifiedDate': 1727109388211, 'name': 'fashion-collection-new', 'standbyReplicas': 'ENABLED', 'status': 'ACTIVE', 'type': 'VECTORSEARCH'}]\n"
     ]
    }
   ],
   "source": [
    "createEncryptionPolicy(client, collection_name)\n",
    "createNetworkPolicy(client, collection_name)\n",
    "createAccessPolicy(client, collection_name, identity_arn)\n",
    "createCollection(client, collection_name)\n",
    "host, collection_id = waitForCollectionCreation(client, collection_name)"
   ]
  },
  {
   "cell_type": "code",
   "execution_count": 7,
   "id": "1e781e7b",
   "metadata": {
    "tags": []
   },
   "outputs": [],
   "source": [
    "# Save collection_id to config.py file, which will be used when deleting resources\n",
    "with open('dependencies/config.py', 'a') as file:\n",
    "    file.write('\\n# These 2 lines are imported from collection creation\\n')\n",
    "    file.write(f'\\naoss_collection_id = \"{collection_id}\"\\naoss_host = \"{host}\"\\n')"
   ]
  },
  {
   "cell_type": "markdown",
   "id": "6ce0c3d4-885b-44ee-94af-e35c4761445e",
   "metadata": {},
   "source": [
    "#### Initialize an Opensearch client"
   ]
  },
  {
   "cell_type": "code",
   "execution_count": 8,
   "id": "bcec490b-5724-4335-85e0-75e87e7fc84a",
   "metadata": {
    "tags": []
   },
   "outputs": [],
   "source": [
    "# Create the client with SSL/TLS enabled.\n",
    "OSSclient = OpenSearch(\n",
    "    hosts=[{'host': host, 'port': 443}],\n",
    "    http_auth=AWSAUTH,\n",
    "    use_ssl=True,\n",
    "    verify_certs=True,\n",
    "    connection_class=RequestsHttpConnection,\n",
    "    pool_maxsize=20,\n",
    "    timeout=3000,\n",
    ")"
   ]
  },
  {
   "cell_type": "markdown",
   "id": "73b97446-cec3-4166-abd6-db40e75936a0",
   "metadata": {},
   "source": [
    "### Create an index for the Opensearch ingestion\n",
    "Opensearch Ingestion class (created in opensearch_utils.py) contains helper functions for the document processing and ingestion into the index"
   ]
  },
  {
   "cell_type": "code",
   "execution_count": 9,
   "id": "6fbf1e17-81cf-4734-b0b7-aedcc03169b4",
   "metadata": {
    "tags": []
   },
   "outputs": [],
   "source": [
    "oss_instance = OpensearchIngestion(\n",
    "    client=OSSclient,\n",
    "    session=boto3_session\n",
    ")"
   ]
  },
  {
   "cell_type": "code",
   "execution_count": 10,
   "id": "77689c83-0c8e-4825-9103-1b121b273c30",
   "metadata": {
    "tags": []
   },
   "outputs": [
    {
     "name": "stderr",
     "output_type": "stream",
     "text": [
      "[2024-09-23 16:49:42,124] p11340 {base.py:258} INFO - PUT https://gbwzu10kwdcxw1kqiu2d.us-east-1.aoss.amazonaws.com:443/images-index-new [status:200 request:0.399s]\n",
      "[2024-09-23 16:49:42,204] p11340 {base.py:258} INFO - PUT https://gbwzu10kwdcxw1kqiu2d.us-east-1.aoss.amazonaws.com:443/images-index-new/_mapping [status:200 request:0.079s]\n"
     ]
    },
    {
     "data": {
      "text/plain": [
       "True"
      ]
     },
     "execution_count": 10,
     "metadata": {},
     "output_type": "execute_result"
    }
   ],
   "source": [
    "oss_instance.create_index(index_name)\n",
    "oss_instance.create_index_mapping(index_name)"
   ]
  },
  {
   "cell_type": "markdown",
   "id": "dd340ec2-b945-4a64-b949-7c034b57c33b",
   "metadata": {},
   "source": [
    "### Ingest the images"
   ]
  },
  {
   "cell_type": "code",
   "execution_count": 11,
   "id": "eaee504f-934f-40b8-9295-c72203dfadb5",
   "metadata": {
    "tags": []
   },
   "outputs": [],
   "source": [
    "dataset_path = \"Fashion-Dataset-Images-Western-Dress/WesternDress_Images/\""
   ]
  },
  {
   "cell_type": "code",
   "execution_count": null,
   "id": "e97f1da8-c511-4ad6-b112-f8bb8c231524",
   "metadata": {
    "scrolled": true,
    "tags": []
   },
   "outputs": [
    {
     "name": "stderr",
     "output_type": "stream",
     "text": [
      "[2024-09-23 16:49:53,404] p11340 {base.py:258} INFO - POST https://gbwzu10kwdcxw1kqiu2d.us-east-1.aoss.amazonaws.com:443/images-index-new/_doc [status:201 request:1.728s]\n",
      "[2024-09-23 16:49:54,240] p11340 {base.py:258} INFO - POST https://gbwzu10kwdcxw1kqiu2d.us-east-1.aoss.amazonaws.com:443/images-index-new/_doc [status:201 request:0.704s]\n",
      "[2024-09-23 16:49:55,257] p11340 {base.py:258} INFO - POST https://gbwzu10kwdcxw1kqiu2d.us-east-1.aoss.amazonaws.com:443/images-index-new/_doc [status:201 request:0.877s]\n",
      "[2024-09-23 16:49:55,764] p11340 {base.py:258} INFO - POST https://gbwzu10kwdcxw1kqiu2d.us-east-1.aoss.amazonaws.com:443/images-index-new/_doc [status:201 request:0.369s]\n",
      "[2024-09-23 16:49:56,274] p11340 {base.py:258} INFO - POST https://gbwzu10kwdcxw1kqiu2d.us-east-1.aoss.amazonaws.com:443/images-index-new/_doc [status:201 request:0.340s]\n",
      "[2024-09-23 16:49:56,672] p11340 {base.py:258} INFO - POST https://gbwzu10kwdcxw1kqiu2d.us-east-1.aoss.amazonaws.com:443/images-index-new/_doc [status:201 request:0.255s]\n",
      "[2024-09-23 16:49:57,060] p11340 {base.py:258} INFO - POST https://gbwzu10kwdcxw1kqiu2d.us-east-1.aoss.amazonaws.com:443/images-index-new/_doc [status:201 request:0.234s]\n",
      "[2024-09-23 16:49:57,736] p11340 {base.py:258} INFO - POST https://gbwzu10kwdcxw1kqiu2d.us-east-1.aoss.amazonaws.com:443/images-index-new/_doc [status:201 request:0.518s]\n",
      "[2024-09-23 16:49:58,129] p11340 {base.py:258} INFO - POST https://gbwzu10kwdcxw1kqiu2d.us-east-1.aoss.amazonaws.com:443/images-index-new/_doc [status:201 request:0.257s]\n",
      "[2024-09-23 16:49:58,527] p11340 {base.py:258} INFO - POST https://gbwzu10kwdcxw1kqiu2d.us-east-1.aoss.amazonaws.com:443/images-index-new/_doc [status:201 request:0.268s]\n",
      "[2024-09-23 16:49:58,954] p11340 {base.py:258} INFO - POST https://gbwzu10kwdcxw1kqiu2d.us-east-1.aoss.amazonaws.com:443/images-index-new/_doc [status:201 request:0.254s]\n",
      "[2024-09-23 16:49:59,449] p11340 {base.py:258} INFO - POST https://gbwzu10kwdcxw1kqiu2d.us-east-1.aoss.amazonaws.com:443/images-index-new/_doc [status:201 request:0.334s]\n",
      "[2024-09-23 16:49:59,935] p11340 {base.py:258} INFO - POST https://gbwzu10kwdcxw1kqiu2d.us-east-1.aoss.amazonaws.com:443/images-index-new/_doc [status:201 request:0.303s]\n",
      "[2024-09-23 16:50:00,520] p11340 {base.py:258} INFO - POST https://gbwzu10kwdcxw1kqiu2d.us-east-1.aoss.amazonaws.com:443/images-index-new/_doc [status:201 request:0.326s]\n",
      "[2024-09-23 16:50:01,023] p11340 {base.py:258} INFO - POST https://gbwzu10kwdcxw1kqiu2d.us-east-1.aoss.amazonaws.com:443/images-index-new/_doc [status:201 request:0.351s]\n",
      "[2024-09-23 16:50:02,175] p11340 {base.py:258} INFO - POST https://gbwzu10kwdcxw1kqiu2d.us-east-1.aoss.amazonaws.com:443/images-index-new/_doc [status:201 request:0.521s]\n",
      "[2024-09-23 16:50:02,761] p11340 {base.py:258} INFO - POST https://gbwzu10kwdcxw1kqiu2d.us-east-1.aoss.amazonaws.com:443/images-index-new/_doc [status:201 request:0.375s]\n",
      "[2024-09-23 16:50:03,172] p11340 {base.py:258} INFO - POST https://gbwzu10kwdcxw1kqiu2d.us-east-1.aoss.amazonaws.com:443/images-index-new/_doc [status:201 request:0.273s]\n",
      "[2024-09-23 16:50:03,692] p11340 {base.py:258} INFO - POST https://gbwzu10kwdcxw1kqiu2d.us-east-1.aoss.amazonaws.com:443/images-index-new/_doc [status:201 request:0.390s]\n",
      "[2024-09-23 16:50:04,103] p11340 {base.py:258} INFO - POST https://gbwzu10kwdcxw1kqiu2d.us-east-1.aoss.amazonaws.com:443/images-index-new/_doc [status:201 request:0.228s]\n",
      "[2024-09-23 16:50:04,533] p11340 {base.py:258} INFO - POST https://gbwzu10kwdcxw1kqiu2d.us-east-1.aoss.amazonaws.com:443/images-index-new/_doc [status:201 request:0.285s]\n",
      "[2024-09-23 16:50:05,047] p11340 {base.py:258} INFO - POST https://gbwzu10kwdcxw1kqiu2d.us-east-1.aoss.amazonaws.com:443/images-index-new/_doc [status:201 request:0.374s]\n",
      "[2024-09-23 16:50:05,498] p11340 {base.py:258} INFO - POST https://gbwzu10kwdcxw1kqiu2d.us-east-1.aoss.amazonaws.com:443/images-index-new/_doc [status:201 request:0.307s]\n",
      "[2024-09-23 16:50:05,960] p11340 {base.py:258} INFO - POST https://gbwzu10kwdcxw1kqiu2d.us-east-1.aoss.amazonaws.com:443/images-index-new/_doc [status:201 request:0.306s]\n",
      "[2024-09-23 16:50:06,470] p11340 {base.py:258} INFO - POST https://gbwzu10kwdcxw1kqiu2d.us-east-1.aoss.amazonaws.com:443/images-index-new/_doc [status:201 request:0.335s]\n",
      "[2024-09-23 16:50:06,866] p11340 {base.py:258} INFO - POST https://gbwzu10kwdcxw1kqiu2d.us-east-1.aoss.amazonaws.com:443/images-index-new/_doc [status:201 request:0.261s]\n",
      "[2024-09-23 16:50:07,245] p11340 {base.py:258} INFO - POST https://gbwzu10kwdcxw1kqiu2d.us-east-1.aoss.amazonaws.com:443/images-index-new/_doc [status:201 request:0.227s]\n",
      "[2024-09-23 16:50:07,882] p11340 {base.py:258} INFO - POST https://gbwzu10kwdcxw1kqiu2d.us-east-1.aoss.amazonaws.com:443/images-index-new/_doc [status:201 request:0.444s]\n",
      "[2024-09-23 16:50:08,295] p11340 {base.py:258} INFO - POST https://gbwzu10kwdcxw1kqiu2d.us-east-1.aoss.amazonaws.com:443/images-index-new/_doc [status:201 request:0.278s]\n",
      "[2024-09-23 16:50:08,751] p11340 {base.py:258} INFO - POST https://gbwzu10kwdcxw1kqiu2d.us-east-1.aoss.amazonaws.com:443/images-index-new/_doc [status:201 request:0.318s]\n",
      "[2024-09-23 16:50:09,965] p11340 {base.py:258} INFO - POST https://gbwzu10kwdcxw1kqiu2d.us-east-1.aoss.amazonaws.com:443/images-index-new/_doc [status:201 request:0.517s]\n",
      "[2024-09-23 16:50:11,025] p11340 {base.py:258} INFO - POST https://gbwzu10kwdcxw1kqiu2d.us-east-1.aoss.amazonaws.com:443/images-index-new/_doc [status:201 request:0.381s]\n",
      "[2024-09-23 16:50:11,436] p11340 {base.py:258} INFO - POST https://gbwzu10kwdcxw1kqiu2d.us-east-1.aoss.amazonaws.com:443/images-index-new/_doc [status:201 request:0.254s]\n",
      "[2024-09-23 16:50:11,987] p11340 {base.py:258} INFO - POST https://gbwzu10kwdcxw1kqiu2d.us-east-1.aoss.amazonaws.com:443/images-index-new/_doc [status:201 request:0.338s]\n",
      "[2024-09-23 16:50:12,385] p11340 {base.py:258} INFO - POST https://gbwzu10kwdcxw1kqiu2d.us-east-1.aoss.amazonaws.com:443/images-index-new/_doc [status:201 request:0.247s]\n",
      "[2024-09-23 16:50:12,765] p11340 {base.py:258} INFO - POST https://gbwzu10kwdcxw1kqiu2d.us-east-1.aoss.amazonaws.com:443/images-index-new/_doc [status:201 request:0.226s]\n",
      "[2024-09-23 16:50:13,209] p11340 {base.py:258} INFO - POST https://gbwzu10kwdcxw1kqiu2d.us-east-1.aoss.amazonaws.com:443/images-index-new/_doc [status:201 request:0.293s]\n",
      "[2024-09-23 16:50:13,651] p11340 {base.py:258} INFO - POST https://gbwzu10kwdcxw1kqiu2d.us-east-1.aoss.amazonaws.com:443/images-index-new/_doc [status:201 request:0.286s]\n",
      "[2024-09-23 16:50:14,529] p11340 {base.py:258} INFO - POST https://gbwzu10kwdcxw1kqiu2d.us-east-1.aoss.amazonaws.com:443/images-index-new/_doc [status:201 request:0.360s]\n",
      "[2024-09-23 16:50:14,972] p11340 {base.py:258} INFO - POST https://gbwzu10kwdcxw1kqiu2d.us-east-1.aoss.amazonaws.com:443/images-index-new/_doc [status:201 request:0.286s]\n",
      "[2024-09-23 16:50:15,382] p11340 {base.py:258} INFO - POST https://gbwzu10kwdcxw1kqiu2d.us-east-1.aoss.amazonaws.com:443/images-index-new/_doc [status:201 request:0.263s]\n",
      "[2024-09-23 16:50:15,787] p11340 {base.py:258} INFO - POST https://gbwzu10kwdcxw1kqiu2d.us-east-1.aoss.amazonaws.com:443/images-index-new/_doc [status:201 request:0.269s]\n",
      "[2024-09-23 16:50:16,196] p11340 {base.py:258} INFO - POST https://gbwzu10kwdcxw1kqiu2d.us-east-1.aoss.amazonaws.com:443/images-index-new/_doc [status:201 request:0.251s]\n",
      "[2024-09-23 16:50:17,123] p11340 {base.py:258} INFO - POST https://gbwzu10kwdcxw1kqiu2d.us-east-1.aoss.amazonaws.com:443/images-index-new/_doc [status:201 request:0.370s]\n",
      "[2024-09-23 16:50:17,643] p11340 {base.py:258} INFO - POST https://gbwzu10kwdcxw1kqiu2d.us-east-1.aoss.amazonaws.com:443/images-index-new/_doc [status:201 request:0.328s]\n",
      "[2024-09-23 16:50:18,148] p11340 {base.py:258} INFO - POST https://gbwzu10kwdcxw1kqiu2d.us-east-1.aoss.amazonaws.com:443/images-index-new/_doc [status:201 request:0.323s]\n",
      "[2024-09-23 16:50:18,541] p11340 {base.py:258} INFO - POST https://gbwzu10kwdcxw1kqiu2d.us-east-1.aoss.amazonaws.com:443/images-index-new/_doc [status:201 request:0.240s]\n",
      "[2024-09-23 16:50:18,954] p11340 {base.py:258} INFO - POST https://gbwzu10kwdcxw1kqiu2d.us-east-1.aoss.amazonaws.com:443/images-index-new/_doc [status:201 request:0.271s]\n",
      "[2024-09-23 16:50:19,626] p11340 {base.py:258} INFO - POST https://gbwzu10kwdcxw1kqiu2d.us-east-1.aoss.amazonaws.com:443/images-index-new/_doc [status:201 request:0.273s]\n",
      "[2024-09-23 16:50:20,076] p11340 {base.py:258} INFO - POST https://gbwzu10kwdcxw1kqiu2d.us-east-1.aoss.amazonaws.com:443/images-index-new/_doc [status:201 request:0.300s]\n",
      "[2024-09-23 16:50:21,211] p11340 {base.py:258} INFO - POST https://gbwzu10kwdcxw1kqiu2d.us-east-1.aoss.amazonaws.com:443/images-index-new/_doc [status:201 request:0.456s]\n",
      "[2024-09-23 16:50:21,593] p11340 {base.py:258} INFO - POST https://gbwzu10kwdcxw1kqiu2d.us-east-1.aoss.amazonaws.com:443/images-index-new/_doc [status:201 request:0.235s]\n",
      "[2024-09-23 16:50:21,966] p11340 {base.py:258} INFO - POST https://gbwzu10kwdcxw1kqiu2d.us-east-1.aoss.amazonaws.com:443/images-index-new/_doc [status:201 request:0.239s]\n",
      "[2024-09-23 16:50:22,438] p11340 {base.py:258} INFO - POST https://gbwzu10kwdcxw1kqiu2d.us-east-1.aoss.amazonaws.com:443/images-index-new/_doc [status:201 request:0.333s]\n",
      "[2024-09-23 16:50:22,752] p11340 {base.py:258} INFO - POST https://gbwzu10kwdcxw1kqiu2d.us-east-1.aoss.amazonaws.com:443/images-index-new/_doc [status:201 request:0.207s]\n",
      "[2024-09-23 16:50:23,233] p11340 {base.py:258} INFO - POST https://gbwzu10kwdcxw1kqiu2d.us-east-1.aoss.amazonaws.com:443/images-index-new/_doc [status:201 request:0.274s]\n",
      "[2024-09-23 16:50:23,653] p11340 {base.py:258} INFO - POST https://gbwzu10kwdcxw1kqiu2d.us-east-1.aoss.amazonaws.com:443/images-index-new/_doc [status:201 request:0.272s]\n",
      "[2024-09-23 16:50:24,061] p11340 {base.py:258} INFO - POST https://gbwzu10kwdcxw1kqiu2d.us-east-1.aoss.amazonaws.com:443/images-index-new/_doc [status:201 request:0.277s]\n",
      "[2024-09-23 16:50:24,574] p11340 {base.py:258} INFO - POST https://gbwzu10kwdcxw1kqiu2d.us-east-1.aoss.amazonaws.com:443/images-index-new/_doc [status:201 request:0.363s]\n",
      "[2024-09-23 16:50:24,919] p11340 {base.py:258} INFO - POST https://gbwzu10kwdcxw1kqiu2d.us-east-1.aoss.amazonaws.com:443/images-index-new/_doc [status:201 request:0.223s]\n",
      "[2024-09-23 16:50:25,292] p11340 {base.py:258} INFO - POST https://gbwzu10kwdcxw1kqiu2d.us-east-1.aoss.amazonaws.com:443/images-index-new/_doc [status:201 request:0.221s]\n",
      "[2024-09-23 16:50:26,095] p11340 {base.py:258} INFO - POST https://gbwzu10kwdcxw1kqiu2d.us-east-1.aoss.amazonaws.com:443/images-index-new/_doc [status:201 request:0.403s]\n",
      "[2024-09-23 16:50:26,535] p11340 {base.py:258} INFO - POST https://gbwzu10kwdcxw1kqiu2d.us-east-1.aoss.amazonaws.com:443/images-index-new/_doc [status:201 request:0.282s]\n",
      "[2024-09-23 16:50:27,036] p11340 {base.py:258} INFO - POST https://gbwzu10kwdcxw1kqiu2d.us-east-1.aoss.amazonaws.com:443/images-index-new/_doc [status:201 request:0.311s]\n",
      "[2024-09-23 16:50:27,414] p11340 {base.py:258} INFO - POST https://gbwzu10kwdcxw1kqiu2d.us-east-1.aoss.amazonaws.com:443/images-index-new/_doc [status:201 request:0.238s]\n",
      "[2024-09-23 16:50:28,659] p11340 {base.py:258} INFO - POST https://gbwzu10kwdcxw1kqiu2d.us-east-1.aoss.amazonaws.com:443/images-index-new/_doc [status:201 request:0.407s]\n",
      "[2024-09-23 16:50:29,848] p11340 {base.py:258} INFO - POST https://gbwzu10kwdcxw1kqiu2d.us-east-1.aoss.amazonaws.com:443/images-index-new/_doc [status:201 request:0.425s]\n",
      "[2024-09-23 16:50:30,314] p11340 {base.py:258} INFO - POST https://gbwzu10kwdcxw1kqiu2d.us-east-1.aoss.amazonaws.com:443/images-index-new/_doc [status:201 request:0.288s]\n",
      "[2024-09-23 16:50:30,759] p11340 {base.py:258} INFO - POST https://gbwzu10kwdcxw1kqiu2d.us-east-1.aoss.amazonaws.com:443/images-index-new/_doc [status:201 request:0.240s]\n",
      "[2024-09-23 16:50:31,185] p11340 {base.py:258} INFO - POST https://gbwzu10kwdcxw1kqiu2d.us-east-1.aoss.amazonaws.com:443/images-index-new/_doc [status:201 request:0.289s]\n",
      "[2024-09-23 16:50:31,678] p11340 {base.py:258} INFO - POST https://gbwzu10kwdcxw1kqiu2d.us-east-1.aoss.amazonaws.com:443/images-index-new/_doc [status:201 request:0.337s]\n",
      "[2024-09-23 16:50:32,077] p11340 {base.py:258} INFO - POST https://gbwzu10kwdcxw1kqiu2d.us-east-1.aoss.amazonaws.com:443/images-index-new/_doc [status:201 request:0.237s]\n",
      "[2024-09-23 16:50:32,482] p11340 {base.py:258} INFO - POST https://gbwzu10kwdcxw1kqiu2d.us-east-1.aoss.amazonaws.com:443/images-index-new/_doc [status:201 request:0.248s]\n",
      "[2024-09-23 16:50:33,005] p11340 {base.py:258} INFO - POST https://gbwzu10kwdcxw1kqiu2d.us-east-1.aoss.amazonaws.com:443/images-index-new/_doc [status:201 request:0.278s]\n",
      "[2024-09-23 16:50:33,384] p11340 {base.py:258} INFO - POST https://gbwzu10kwdcxw1kqiu2d.us-east-1.aoss.amazonaws.com:443/images-index-new/_doc [status:201 request:0.259s]\n",
      "[2024-09-23 16:50:33,781] p11340 {base.py:258} INFO - POST https://gbwzu10kwdcxw1kqiu2d.us-east-1.aoss.amazonaws.com:443/images-index-new/_doc [status:201 request:0.235s]\n",
      "[2024-09-23 16:50:34,451] p11340 {base.py:258} INFO - POST https://gbwzu10kwdcxw1kqiu2d.us-east-1.aoss.amazonaws.com:443/images-index-new/_doc [status:201 request:0.530s]\n",
      "[2024-09-23 16:50:34,815] p11340 {base.py:258} INFO - POST https://gbwzu10kwdcxw1kqiu2d.us-east-1.aoss.amazonaws.com:443/images-index-new/_doc [status:201 request:0.228s]\n",
      "[2024-09-23 16:50:35,227] p11340 {base.py:258} INFO - POST https://gbwzu10kwdcxw1kqiu2d.us-east-1.aoss.amazonaws.com:443/images-index-new/_doc [status:201 request:0.271s]\n",
      "[2024-09-23 16:50:35,684] p11340 {base.py:258} INFO - POST https://gbwzu10kwdcxw1kqiu2d.us-east-1.aoss.amazonaws.com:443/images-index-new/_doc [status:201 request:0.312s]\n",
      "[2024-09-23 16:50:36,241] p11340 {base.py:258} INFO - POST https://gbwzu10kwdcxw1kqiu2d.us-east-1.aoss.amazonaws.com:443/images-index-new/_doc [status:201 request:0.405s]\n",
      "[2024-09-23 16:50:36,613] p11340 {base.py:258} INFO - POST https://gbwzu10kwdcxw1kqiu2d.us-east-1.aoss.amazonaws.com:443/images-index-new/_doc [status:201 request:0.248s]\n",
      "[2024-09-23 16:50:37,003] p11340 {base.py:258} INFO - POST https://gbwzu10kwdcxw1kqiu2d.us-east-1.aoss.amazonaws.com:443/images-index-new/_doc [status:201 request:0.251s]\n",
      "[2024-09-23 16:50:37,455] p11340 {base.py:258} INFO - POST https://gbwzu10kwdcxw1kqiu2d.us-east-1.aoss.amazonaws.com:443/images-index-new/_doc [status:201 request:0.285s]\n",
      "[2024-09-23 16:50:37,810] p11340 {base.py:258} INFO - POST https://gbwzu10kwdcxw1kqiu2d.us-east-1.aoss.amazonaws.com:443/images-index-new/_doc [status:201 request:0.232s]\n",
      "[2024-09-23 16:50:38,781] p11340 {base.py:258} INFO - POST https://gbwzu10kwdcxw1kqiu2d.us-east-1.aoss.amazonaws.com:443/images-index-new/_doc [status:201 request:0.350s]\n",
      "[2024-09-23 16:50:39,231] p11340 {base.py:258} INFO - POST https://gbwzu10kwdcxw1kqiu2d.us-east-1.aoss.amazonaws.com:443/images-index-new/_doc [status:201 request:0.303s]\n",
      "[2024-09-23 16:50:39,719] p11340 {base.py:258} INFO - POST https://gbwzu10kwdcxw1kqiu2d.us-east-1.aoss.amazonaws.com:443/images-index-new/_doc [status:201 request:0.348s]\n",
      "[2024-09-23 16:50:40,080] p11340 {base.py:258} INFO - POST https://gbwzu10kwdcxw1kqiu2d.us-east-1.aoss.amazonaws.com:443/images-index-new/_doc [status:201 request:0.221s]\n",
      "[2024-09-23 16:50:40,473] p11340 {base.py:258} INFO - POST https://gbwzu10kwdcxw1kqiu2d.us-east-1.aoss.amazonaws.com:443/images-index-new/_doc [status:201 request:0.259s]\n",
      "[2024-09-23 16:50:40,871] p11340 {base.py:258} INFO - POST https://gbwzu10kwdcxw1kqiu2d.us-east-1.aoss.amazonaws.com:443/images-index-new/_doc [status:201 request:0.251s]\n",
      "[2024-09-23 16:50:41,268] p11340 {base.py:258} INFO - POST https://gbwzu10kwdcxw1kqiu2d.us-east-1.aoss.amazonaws.com:443/images-index-new/_doc [status:201 request:0.256s]\n",
      "[2024-09-23 16:50:41,634] p11340 {base.py:258} INFO - POST https://gbwzu10kwdcxw1kqiu2d.us-east-1.aoss.amazonaws.com:443/images-index-new/_doc [status:201 request:0.230s]\n",
      "[2024-09-23 16:50:42,056] p11340 {base.py:258} INFO - POST https://gbwzu10kwdcxw1kqiu2d.us-east-1.aoss.amazonaws.com:443/images-index-new/_doc [status:201 request:0.255s]\n",
      "[2024-09-23 16:50:42,642] p11340 {base.py:258} INFO - POST https://gbwzu10kwdcxw1kqiu2d.us-east-1.aoss.amazonaws.com:443/images-index-new/_doc [status:201 request:0.419s]\n",
      "[2024-09-23 16:50:43,126] p11340 {base.py:258} INFO - POST https://gbwzu10kwdcxw1kqiu2d.us-east-1.aoss.amazonaws.com:443/images-index-new/_doc [status:201 request:0.318s]\n",
      "[2024-09-23 16:50:43,529] p11340 {base.py:258} INFO - POST https://gbwzu10kwdcxw1kqiu2d.us-east-1.aoss.amazonaws.com:443/images-index-new/_doc [status:201 request:0.243s]\n",
      "[2024-09-23 16:50:43,984] p11340 {base.py:258} INFO - POST https://gbwzu10kwdcxw1kqiu2d.us-east-1.aoss.amazonaws.com:443/images-index-new/_doc [status:201 request:0.298s]\n",
      "[2024-09-23 16:50:44,743] p11340 {base.py:258} INFO - POST https://gbwzu10kwdcxw1kqiu2d.us-east-1.aoss.amazonaws.com:443/images-index-new/_doc [status:201 request:0.254s]\n",
      "[2024-09-23 16:50:45,146] p11340 {base.py:258} INFO - POST https://gbwzu10kwdcxw1kqiu2d.us-east-1.aoss.amazonaws.com:443/images-index-new/_doc [status:201 request:0.217s]\n",
      "[2024-09-23 16:50:45,683] p11340 {base.py:258} INFO - POST https://gbwzu10kwdcxw1kqiu2d.us-east-1.aoss.amazonaws.com:443/images-index-new/_doc [status:201 request:0.385s]\n",
      "[2024-09-23 16:50:46,469] p11340 {base.py:258} INFO - POST https://gbwzu10kwdcxw1kqiu2d.us-east-1.aoss.amazonaws.com:443/images-index-new/_doc [status:201 request:0.426s]\n",
      "[2024-09-23 16:50:46,844] p11340 {base.py:258} INFO - POST https://gbwzu10kwdcxw1kqiu2d.us-east-1.aoss.amazonaws.com:443/images-index-new/_doc [status:201 request:0.252s]\n",
      "[2024-09-23 16:50:47,259] p11340 {base.py:258} INFO - POST https://gbwzu10kwdcxw1kqiu2d.us-east-1.aoss.amazonaws.com:443/images-index-new/_doc [status:201 request:0.275s]\n",
      "[2024-09-23 16:50:47,868] p11340 {base.py:258} INFO - POST https://gbwzu10kwdcxw1kqiu2d.us-east-1.aoss.amazonaws.com:443/images-index-new/_doc [status:201 request:0.462s]\n",
      "[2024-09-23 16:50:48,595] p11340 {base.py:258} INFO - POST https://gbwzu10kwdcxw1kqiu2d.us-east-1.aoss.amazonaws.com:443/images-index-new/_doc [status:201 request:0.550s]\n",
      "[2024-09-23 16:50:49,131] p11340 {base.py:258} INFO - POST https://gbwzu10kwdcxw1kqiu2d.us-east-1.aoss.amazonaws.com:443/images-index-new/_doc [status:201 request:0.380s]\n",
      "[2024-09-23 16:50:50,436] p11340 {base.py:258} INFO - POST https://gbwzu10kwdcxw1kqiu2d.us-east-1.aoss.amazonaws.com:443/images-index-new/_doc [status:201 request:0.486s]\n",
      "[2024-09-23 16:50:50,926] p11340 {base.py:258} INFO - POST https://gbwzu10kwdcxw1kqiu2d.us-east-1.aoss.amazonaws.com:443/images-index-new/_doc [status:201 request:0.318s]\n",
      "[2024-09-23 16:50:51,327] p11340 {base.py:258} INFO - POST https://gbwzu10kwdcxw1kqiu2d.us-east-1.aoss.amazonaws.com:443/images-index-new/_doc [status:201 request:0.257s]\n",
      "[2024-09-23 16:50:51,691] p11340 {base.py:258} INFO - POST https://gbwzu10kwdcxw1kqiu2d.us-east-1.aoss.amazonaws.com:443/images-index-new/_doc [status:201 request:0.250s]\n",
      "[2024-09-23 16:50:52,171] p11340 {base.py:258} INFO - POST https://gbwzu10kwdcxw1kqiu2d.us-east-1.aoss.amazonaws.com:443/images-index-new/_doc [status:201 request:0.304s]\n",
      "[2024-09-23 16:50:52,592] p11340 {base.py:258} INFO - POST https://gbwzu10kwdcxw1kqiu2d.us-east-1.aoss.amazonaws.com:443/images-index-new/_doc [status:201 request:0.280s]\n",
      "[2024-09-23 16:50:52,954] p11340 {base.py:258} INFO - POST https://gbwzu10kwdcxw1kqiu2d.us-east-1.aoss.amazonaws.com:443/images-index-new/_doc [status:201 request:0.223s]\n",
      "[2024-09-23 16:50:53,372] p11340 {base.py:258} INFO - POST https://gbwzu10kwdcxw1kqiu2d.us-east-1.aoss.amazonaws.com:443/images-index-new/_doc [status:201 request:0.265s]\n",
      "[2024-09-23 16:50:53,765] p11340 {base.py:258} INFO - POST https://gbwzu10kwdcxw1kqiu2d.us-east-1.aoss.amazonaws.com:443/images-index-new/_doc [status:201 request:0.271s]\n",
      "[2024-09-23 16:50:54,543] p11340 {base.py:258} INFO - POST https://gbwzu10kwdcxw1kqiu2d.us-east-1.aoss.amazonaws.com:443/images-index-new/_doc [status:201 request:0.362s]\n",
      "[2024-09-23 16:50:54,900] p11340 {base.py:258} INFO - POST https://gbwzu10kwdcxw1kqiu2d.us-east-1.aoss.amazonaws.com:443/images-index-new/_doc [status:201 request:0.212s]\n",
      "[2024-09-23 16:50:55,410] p11340 {base.py:258} INFO - POST https://gbwzu10kwdcxw1kqiu2d.us-east-1.aoss.amazonaws.com:443/images-index-new/_doc [status:201 request:0.308s]\n",
      "[2024-09-23 16:50:55,855] p11340 {base.py:258} INFO - POST https://gbwzu10kwdcxw1kqiu2d.us-east-1.aoss.amazonaws.com:443/images-index-new/_doc [status:201 request:0.274s]\n",
      "[2024-09-23 16:50:56,633] p11340 {base.py:258} INFO - POST https://gbwzu10kwdcxw1kqiu2d.us-east-1.aoss.amazonaws.com:443/images-index-new/_doc [status:201 request:0.419s]\n",
      "[2024-09-23 16:50:57,073] p11340 {base.py:258} INFO - POST https://gbwzu10kwdcxw1kqiu2d.us-east-1.aoss.amazonaws.com:443/images-index-new/_doc [status:201 request:0.323s]\n",
      "[2024-09-23 16:50:57,487] p11340 {base.py:258} INFO - POST https://gbwzu10kwdcxw1kqiu2d.us-east-1.aoss.amazonaws.com:443/images-index-new/_doc [status:201 request:0.287s]\n",
      "[2024-09-23 16:50:58,050] p11340 {base.py:258} INFO - POST https://gbwzu10kwdcxw1kqiu2d.us-east-1.aoss.amazonaws.com:443/images-index-new/_doc [status:201 request:0.410s]\n",
      "[2024-09-23 16:50:58,467] p11340 {base.py:258} INFO - POST https://gbwzu10kwdcxw1kqiu2d.us-east-1.aoss.amazonaws.com:443/images-index-new/_doc [status:201 request:0.268s]\n",
      "[2024-09-23 16:50:58,845] p11340 {base.py:258} INFO - POST https://gbwzu10kwdcxw1kqiu2d.us-east-1.aoss.amazonaws.com:443/images-index-new/_doc [status:201 request:0.263s]\n",
      "[2024-09-23 16:50:59,439] p11340 {base.py:258} INFO - POST https://gbwzu10kwdcxw1kqiu2d.us-east-1.aoss.amazonaws.com:443/images-index-new/_doc [status:201 request:0.450s]\n",
      "[2024-09-23 16:51:00,503] p11340 {base.py:258} INFO - POST https://gbwzu10kwdcxw1kqiu2d.us-east-1.aoss.amazonaws.com:443/images-index-new/_doc [status:201 request:0.391s]\n",
      "[2024-09-23 16:51:00,930] p11340 {base.py:258} INFO - POST https://gbwzu10kwdcxw1kqiu2d.us-east-1.aoss.amazonaws.com:443/images-index-new/_doc [status:201 request:0.260s]\n",
      "[2024-09-23 16:51:01,638] p11340 {base.py:258} INFO - POST https://gbwzu10kwdcxw1kqiu2d.us-east-1.aoss.amazonaws.com:443/images-index-new/_doc [status:201 request:0.357s]\n",
      "[2024-09-23 16:51:02,034] p11340 {base.py:258} INFO - POST https://gbwzu10kwdcxw1kqiu2d.us-east-1.aoss.amazonaws.com:443/images-index-new/_doc [status:201 request:0.240s]\n",
      "[2024-09-23 16:51:02,461] p11340 {base.py:258} INFO - POST https://gbwzu10kwdcxw1kqiu2d.us-east-1.aoss.amazonaws.com:443/images-index-new/_doc [status:201 request:0.274s]\n",
      "[2024-09-23 16:51:02,923] p11340 {base.py:258} INFO - POST https://gbwzu10kwdcxw1kqiu2d.us-east-1.aoss.amazonaws.com:443/images-index-new/_doc [status:201 request:0.277s]\n",
      "[2024-09-23 16:51:03,830] p11340 {base.py:258} INFO - POST https://gbwzu10kwdcxw1kqiu2d.us-east-1.aoss.amazonaws.com:443/images-index-new/_doc [status:201 request:0.400s]\n",
      "[2024-09-23 16:51:04,285] p11340 {base.py:258} INFO - POST https://gbwzu10kwdcxw1kqiu2d.us-east-1.aoss.amazonaws.com:443/images-index-new/_doc [status:201 request:0.324s]\n",
      "[2024-09-23 16:51:04,684] p11340 {base.py:258} INFO - POST https://gbwzu10kwdcxw1kqiu2d.us-east-1.aoss.amazonaws.com:443/images-index-new/_doc [status:201 request:0.236s]\n",
      "[2024-09-23 16:51:05,047] p11340 {base.py:258} INFO - POST https://gbwzu10kwdcxw1kqiu2d.us-east-1.aoss.amazonaws.com:443/images-index-new/_doc [status:201 request:0.227s]\n",
      "[2024-09-23 16:51:05,442] p11340 {base.py:258} INFO - POST https://gbwzu10kwdcxw1kqiu2d.us-east-1.aoss.amazonaws.com:443/images-index-new/_doc [status:201 request:0.288s]\n",
      "[2024-09-23 16:51:05,820] p11340 {base.py:258} INFO - POST https://gbwzu10kwdcxw1kqiu2d.us-east-1.aoss.amazonaws.com:443/images-index-new/_doc [status:201 request:0.226s]\n",
      "[2024-09-23 16:51:06,570] p11340 {base.py:258} INFO - POST https://gbwzu10kwdcxw1kqiu2d.us-east-1.aoss.amazonaws.com:443/images-index-new/_doc [status:201 request:0.330s]\n",
      "[2024-09-23 16:51:06,932] p11340 {base.py:258} INFO - POST https://gbwzu10kwdcxw1kqiu2d.us-east-1.aoss.amazonaws.com:443/images-index-new/_doc [status:201 request:0.237s]\n",
      "[2024-09-23 16:51:07,345] p11340 {base.py:258} INFO - POST https://gbwzu10kwdcxw1kqiu2d.us-east-1.aoss.amazonaws.com:443/images-index-new/_doc [status:201 request:0.240s]\n",
      "[2024-09-23 16:51:07,902] p11340 {base.py:258} INFO - POST https://gbwzu10kwdcxw1kqiu2d.us-east-1.aoss.amazonaws.com:443/images-index-new/_doc [status:201 request:0.287s]\n",
      "[2024-09-23 16:51:08,215] p11340 {base.py:258} INFO - POST https://gbwzu10kwdcxw1kqiu2d.us-east-1.aoss.amazonaws.com:443/images-index-new/_doc [status:201 request:0.208s]\n",
      "[2024-09-23 16:51:08,726] p11340 {base.py:258} INFO - POST https://gbwzu10kwdcxw1kqiu2d.us-east-1.aoss.amazonaws.com:443/images-index-new/_doc [status:201 request:0.249s]\n",
      "[2024-09-23 16:51:09,133] p11340 {base.py:258} INFO - POST https://gbwzu10kwdcxw1kqiu2d.us-east-1.aoss.amazonaws.com:443/images-index-new/_doc [status:201 request:0.290s]\n",
      "[2024-09-23 16:51:09,492] p11340 {base.py:258} INFO - POST https://gbwzu10kwdcxw1kqiu2d.us-east-1.aoss.amazonaws.com:443/images-index-new/_doc [status:201 request:0.241s]\n",
      "[2024-09-23 16:51:09,831] p11340 {base.py:258} INFO - POST https://gbwzu10kwdcxw1kqiu2d.us-east-1.aoss.amazonaws.com:443/images-index-new/_doc [status:201 request:0.232s]\n",
      "[2024-09-23 16:51:10,229] p11340 {base.py:258} INFO - POST https://gbwzu10kwdcxw1kqiu2d.us-east-1.aoss.amazonaws.com:443/images-index-new/_doc [status:201 request:0.235s]\n",
      "[2024-09-23 16:51:10,656] p11340 {base.py:258} INFO - POST https://gbwzu10kwdcxw1kqiu2d.us-east-1.aoss.amazonaws.com:443/images-index-new/_doc [status:201 request:0.297s]\n",
      "[2024-09-23 16:51:11,025] p11340 {base.py:258} INFO - POST https://gbwzu10kwdcxw1kqiu2d.us-east-1.aoss.amazonaws.com:443/images-index-new/_doc [status:201 request:0.266s]\n",
      "[2024-09-23 16:51:11,339] p11340 {base.py:258} INFO - POST https://gbwzu10kwdcxw1kqiu2d.us-east-1.aoss.amazonaws.com:443/images-index-new/_doc [status:201 request:0.204s]\n",
      "[2024-09-23 16:51:11,691] p11340 {base.py:258} INFO - POST https://gbwzu10kwdcxw1kqiu2d.us-east-1.aoss.amazonaws.com:443/images-index-new/_doc [status:201 request:0.224s]\n",
      "[2024-09-23 16:51:12,207] p11340 {base.py:258} INFO - POST https://gbwzu10kwdcxw1kqiu2d.us-east-1.aoss.amazonaws.com:443/images-index-new/_doc [status:201 request:0.312s]\n",
      "[2024-09-23 16:51:12,646] p11340 {base.py:258} INFO - POST https://gbwzu10kwdcxw1kqiu2d.us-east-1.aoss.amazonaws.com:443/images-index-new/_doc [status:201 request:0.303s]\n",
      "[2024-09-23 16:51:13,035] p11340 {base.py:258} INFO - POST https://gbwzu10kwdcxw1kqiu2d.us-east-1.aoss.amazonaws.com:443/images-index-new/_doc [status:201 request:0.254s]\n",
      "[2024-09-23 16:51:13,375] p11340 {base.py:258} INFO - POST https://gbwzu10kwdcxw1kqiu2d.us-east-1.aoss.amazonaws.com:443/images-index-new/_doc [status:201 request:0.205s]\n",
      "[2024-09-23 16:51:13,715] p11340 {base.py:258} INFO - POST https://gbwzu10kwdcxw1kqiu2d.us-east-1.aoss.amazonaws.com:443/images-index-new/_doc [status:201 request:0.210s]\n",
      "[2024-09-23 16:51:14,284] p11340 {base.py:258} INFO - POST https://gbwzu10kwdcxw1kqiu2d.us-east-1.aoss.amazonaws.com:443/images-index-new/_doc [status:201 request:0.429s]\n",
      "[2024-09-23 16:51:14,747] p11340 {base.py:258} INFO - POST https://gbwzu10kwdcxw1kqiu2d.us-east-1.aoss.amazonaws.com:443/images-index-new/_doc [status:201 request:0.299s]\n",
      "[2024-09-23 16:51:15,200] p11340 {base.py:258} INFO - POST https://gbwzu10kwdcxw1kqiu2d.us-east-1.aoss.amazonaws.com:443/images-index-new/_doc [status:201 request:0.303s]\n",
      "[2024-09-23 16:51:15,564] p11340 {base.py:258} INFO - POST https://gbwzu10kwdcxw1kqiu2d.us-east-1.aoss.amazonaws.com:443/images-index-new/_doc [status:201 request:0.217s]\n",
      "[2024-09-23 16:51:15,967] p11340 {base.py:258} INFO - POST https://gbwzu10kwdcxw1kqiu2d.us-east-1.aoss.amazonaws.com:443/images-index-new/_doc [status:201 request:0.247s]\n",
      "[2024-09-23 16:51:16,596] p11340 {base.py:258} INFO - POST https://gbwzu10kwdcxw1kqiu2d.us-east-1.aoss.amazonaws.com:443/images-index-new/_doc [status:201 request:0.473s]\n",
      "[2024-09-23 16:51:17,044] p11340 {base.py:258} INFO - POST https://gbwzu10kwdcxw1kqiu2d.us-east-1.aoss.amazonaws.com:443/images-index-new/_doc [status:201 request:0.312s]\n",
      "[2024-09-23 16:51:17,403] p11340 {base.py:258} INFO - POST https://gbwzu10kwdcxw1kqiu2d.us-east-1.aoss.amazonaws.com:443/images-index-new/_doc [status:201 request:0.246s]\n",
      "[2024-09-23 16:51:17,826] p11340 {base.py:258} INFO - POST https://gbwzu10kwdcxw1kqiu2d.us-east-1.aoss.amazonaws.com:443/images-index-new/_doc [status:201 request:0.236s]\n",
      "[2024-09-23 16:51:18,391] p11340 {base.py:258} INFO - POST https://gbwzu10kwdcxw1kqiu2d.us-east-1.aoss.amazonaws.com:443/images-index-new/_doc [status:201 request:0.360s]\n",
      "[2024-09-23 16:51:19,050] p11340 {base.py:258} INFO - POST https://gbwzu10kwdcxw1kqiu2d.us-east-1.aoss.amazonaws.com:443/images-index-new/_doc [status:201 request:0.214s]\n",
      "[2024-09-23 16:51:20,324] p11340 {base.py:258} INFO - POST https://gbwzu10kwdcxw1kqiu2d.us-east-1.aoss.amazonaws.com:443/images-index-new/_doc [status:201 request:0.349s]\n",
      "[2024-09-23 16:51:20,694] p11340 {base.py:258} INFO - POST https://gbwzu10kwdcxw1kqiu2d.us-east-1.aoss.amazonaws.com:443/images-index-new/_doc [status:201 request:0.219s]\n",
      "[2024-09-23 16:51:21,136] p11340 {base.py:258} INFO - POST https://gbwzu10kwdcxw1kqiu2d.us-east-1.aoss.amazonaws.com:443/images-index-new/_doc [status:201 request:0.298s]\n",
      "[2024-09-23 16:51:21,499] p11340 {base.py:258} INFO - POST https://gbwzu10kwdcxw1kqiu2d.us-east-1.aoss.amazonaws.com:443/images-index-new/_doc [status:201 request:0.220s]\n",
      "[2024-09-23 16:51:21,911] p11340 {base.py:258} INFO - POST https://gbwzu10kwdcxw1kqiu2d.us-east-1.aoss.amazonaws.com:443/images-index-new/_doc [status:201 request:0.252s]\n",
      "[2024-09-23 16:51:22,290] p11340 {base.py:258} INFO - POST https://gbwzu10kwdcxw1kqiu2d.us-east-1.aoss.amazonaws.com:443/images-index-new/_doc [status:201 request:0.252s]\n",
      "[2024-09-23 16:51:22,718] p11340 {base.py:258} INFO - POST https://gbwzu10kwdcxw1kqiu2d.us-east-1.aoss.amazonaws.com:443/images-index-new/_doc [status:201 request:0.243s]\n",
      "[2024-09-23 16:51:23,121] p11340 {base.py:258} INFO - POST https://gbwzu10kwdcxw1kqiu2d.us-east-1.aoss.amazonaws.com:443/images-index-new/_doc [status:201 request:0.295s]\n",
      "[2024-09-23 16:51:23,459] p11340 {base.py:258} INFO - POST https://gbwzu10kwdcxw1kqiu2d.us-east-1.aoss.amazonaws.com:443/images-index-new/_doc [status:201 request:0.209s]\n",
      "[2024-09-23 16:51:23,880] p11340 {base.py:258} INFO - POST https://gbwzu10kwdcxw1kqiu2d.us-east-1.aoss.amazonaws.com:443/images-index-new/_doc [status:201 request:0.279s]\n",
      "[2024-09-23 16:51:24,354] p11340 {base.py:258} INFO - POST https://gbwzu10kwdcxw1kqiu2d.us-east-1.aoss.amazonaws.com:443/images-index-new/_doc [status:201 request:0.251s]\n",
      "[2024-09-23 16:51:24,817] p11340 {base.py:258} INFO - POST https://gbwzu10kwdcxw1kqiu2d.us-east-1.aoss.amazonaws.com:443/images-index-new/_doc [status:201 request:0.254s]\n",
      "[2024-09-23 16:51:25,242] p11340 {base.py:258} INFO - POST https://gbwzu10kwdcxw1kqiu2d.us-east-1.aoss.amazonaws.com:443/images-index-new/_doc [status:201 request:0.315s]\n",
      "[2024-09-23 16:51:25,867] p11340 {base.py:258} INFO - POST https://gbwzu10kwdcxw1kqiu2d.us-east-1.aoss.amazonaws.com:443/images-index-new/_doc [status:201 request:0.389s]\n",
      "[2024-09-23 16:51:26,301] p11340 {base.py:258} INFO - POST https://gbwzu10kwdcxw1kqiu2d.us-east-1.aoss.amazonaws.com:443/images-index-new/_doc [status:201 request:0.320s]\n",
      "[2024-09-23 16:51:26,621] p11340 {base.py:258} INFO - POST https://gbwzu10kwdcxw1kqiu2d.us-east-1.aoss.amazonaws.com:443/images-index-new/_doc [status:201 request:0.211s]\n",
      "[2024-09-23 16:51:27,115] p11340 {base.py:258} INFO - POST https://gbwzu10kwdcxw1kqiu2d.us-east-1.aoss.amazonaws.com:443/images-index-new/_doc [status:201 request:0.310s]\n",
      "[2024-09-23 16:51:27,699] p11340 {base.py:258} INFO - POST https://gbwzu10kwdcxw1kqiu2d.us-east-1.aoss.amazonaws.com:443/images-index-new/_doc [status:201 request:0.369s]\n",
      "[2024-09-23 16:51:28,164] p11340 {base.py:258} INFO - POST https://gbwzu10kwdcxw1kqiu2d.us-east-1.aoss.amazonaws.com:443/images-index-new/_doc [status:201 request:0.331s]\n",
      "[2024-09-23 16:51:28,521] p11340 {base.py:258} INFO - POST https://gbwzu10kwdcxw1kqiu2d.us-east-1.aoss.amazonaws.com:443/images-index-new/_doc [status:201 request:0.216s]\n",
      "[2024-09-23 16:51:28,908] p11340 {base.py:258} INFO - POST https://gbwzu10kwdcxw1kqiu2d.us-east-1.aoss.amazonaws.com:443/images-index-new/_doc [status:201 request:0.257s]\n",
      "[2024-09-23 16:51:29,590] p11340 {base.py:258} INFO - POST https://gbwzu10kwdcxw1kqiu2d.us-east-1.aoss.amazonaws.com:443/images-index-new/_doc [status:201 request:0.327s]\n",
      "[2024-09-23 16:51:29,964] p11340 {base.py:258} INFO - POST https://gbwzu10kwdcxw1kqiu2d.us-east-1.aoss.amazonaws.com:443/images-index-new/_doc [status:201 request:0.265s]\n",
      "[2024-09-23 16:51:30,351] p11340 {base.py:258} INFO - POST https://gbwzu10kwdcxw1kqiu2d.us-east-1.aoss.amazonaws.com:443/images-index-new/_doc [status:201 request:0.236s]\n",
      "[2024-09-23 16:51:31,131] p11340 {base.py:258} INFO - POST https://gbwzu10kwdcxw1kqiu2d.us-east-1.aoss.amazonaws.com:443/images-index-new/_doc [status:201 request:0.430s]\n",
      "[2024-09-23 16:51:31,627] p11340 {base.py:258} INFO - POST https://gbwzu10kwdcxw1kqiu2d.us-east-1.aoss.amazonaws.com:443/images-index-new/_doc [status:201 request:0.332s]\n",
      "[2024-09-23 16:51:33,022] p11340 {base.py:258} INFO - POST https://gbwzu10kwdcxw1kqiu2d.us-east-1.aoss.amazonaws.com:443/images-index-new/_doc [status:201 request:0.706s]\n",
      "[2024-09-23 16:51:33,392] p11340 {base.py:258} INFO - POST https://gbwzu10kwdcxw1kqiu2d.us-east-1.aoss.amazonaws.com:443/images-index-new/_doc [status:201 request:0.244s]\n",
      "[2024-09-23 16:51:33,805] p11340 {base.py:258} INFO - POST https://gbwzu10kwdcxw1kqiu2d.us-east-1.aoss.amazonaws.com:443/images-index-new/_doc [status:201 request:0.282s]\n",
      "[2024-09-23 16:51:34,550] p11340 {base.py:258} INFO - POST https://gbwzu10kwdcxw1kqiu2d.us-east-1.aoss.amazonaws.com:443/images-index-new/_doc [status:201 request:0.349s]\n",
      "[2024-09-23 16:51:34,904] p11340 {base.py:258} INFO - POST https://gbwzu10kwdcxw1kqiu2d.us-east-1.aoss.amazonaws.com:443/images-index-new/_doc [status:201 request:0.251s]\n",
      "[2024-09-23 16:51:35,553] p11340 {base.py:258} INFO - POST https://gbwzu10kwdcxw1kqiu2d.us-east-1.aoss.amazonaws.com:443/images-index-new/_doc [status:201 request:0.469s]\n",
      "[2024-09-23 16:51:35,923] p11340 {base.py:258} INFO - POST https://gbwzu10kwdcxw1kqiu2d.us-east-1.aoss.amazonaws.com:443/images-index-new/_doc [status:201 request:0.235s]\n",
      "[2024-09-23 16:51:36,334] p11340 {base.py:258} INFO - POST https://gbwzu10kwdcxw1kqiu2d.us-east-1.aoss.amazonaws.com:443/images-index-new/_doc [status:201 request:0.296s]\n",
      "[2024-09-23 16:51:37,095] p11340 {base.py:258} INFO - POST https://gbwzu10kwdcxw1kqiu2d.us-east-1.aoss.amazonaws.com:443/images-index-new/_doc [status:201 request:0.393s]\n",
      "[2024-09-23 16:51:37,495] p11340 {base.py:258} INFO - POST https://gbwzu10kwdcxw1kqiu2d.us-east-1.aoss.amazonaws.com:443/images-index-new/_doc [status:201 request:0.263s]\n",
      "[2024-09-23 16:51:37,914] p11340 {base.py:258} INFO - POST https://gbwzu10kwdcxw1kqiu2d.us-east-1.aoss.amazonaws.com:443/images-index-new/_doc [status:201 request:0.279s]\n",
      "[2024-09-23 16:51:38,340] p11340 {base.py:258} INFO - POST https://gbwzu10kwdcxw1kqiu2d.us-east-1.aoss.amazonaws.com:443/images-index-new/_doc [status:201 request:0.286s]\n",
      "[2024-09-23 16:51:38,785] p11340 {base.py:258} INFO - POST https://gbwzu10kwdcxw1kqiu2d.us-east-1.aoss.amazonaws.com:443/images-index-new/_doc [status:201 request:0.332s]\n",
      "[2024-09-23 16:51:39,152] p11340 {base.py:258} INFO - POST https://gbwzu10kwdcxw1kqiu2d.us-east-1.aoss.amazonaws.com:443/images-index-new/_doc [status:201 request:0.263s]\n",
      "[2024-09-23 16:51:39,517] p11340 {base.py:258} INFO - POST https://gbwzu10kwdcxw1kqiu2d.us-east-1.aoss.amazonaws.com:443/images-index-new/_doc [status:201 request:0.233s]\n",
      "[2024-09-23 16:51:39,913] p11340 {base.py:258} INFO - POST https://gbwzu10kwdcxw1kqiu2d.us-east-1.aoss.amazonaws.com:443/images-index-new/_doc [status:201 request:0.251s]\n",
      "[2024-09-23 16:51:40,587] p11340 {base.py:258} INFO - POST https://gbwzu10kwdcxw1kqiu2d.us-east-1.aoss.amazonaws.com:443/images-index-new/_doc [status:201 request:0.316s]\n"
     ]
    }
   ],
   "source": [
    "failed = []\n",
    "for image_name in os.listdir(dataset_path):\n",
    "    image = dataset_path+image_name\n",
    "    try:\n",
    "        (data, embedding) = oss_instance.create_titan_multimodal_embeddings(image_path=image)\n",
    "        img_id = image.rsplit(\"/\",1)[1].split(\".\")[0]\n",
    "        # print(img_id)\n",
    "        body = {\n",
    "            \"vector_field\": embedding[\"embedding\"],\n",
    "            \"image_b64\": data[\"inputImage\"], \n",
    "            }\n",
    "    except Exception as e:\n",
    "        print(f\"Exception thrown in image {image}: {e}\")\n",
    "        continue\n",
    "    # Ingest the images one by one.\n",
    "    status = oss_instance.client.index(\n",
    "        index=index_name, \n",
    "        body=body, \n",
    "    )\n",
    "    if status[\"result\"] != \"created\":\n",
    "        failed.append(image)\n",
    "        \n",
    "print(f\"Ingestion Complete. Failed ingestion for the following: {failed}\")"
   ]
  },
  {
   "cell_type": "markdown",
   "id": "26a48958",
   "metadata": {},
   "source": [
    "##### Clean up will be done together with all other agent assets"
   ]
  }
 ],
 "metadata": {
  "availableInstances": [
   {
    "_defaultOrder": 0,
    "_isFastLaunch": true,
    "category": "General purpose",
    "gpuNum": 0,
    "hideHardwareSpecs": false,
    "memoryGiB": 4,
    "name": "ml.t3.medium",
    "vcpuNum": 2
   },
   {
    "_defaultOrder": 1,
    "_isFastLaunch": false,
    "category": "General purpose",
    "gpuNum": 0,
    "hideHardwareSpecs": false,
    "memoryGiB": 8,
    "name": "ml.t3.large",
    "vcpuNum": 2
   },
   {
    "_defaultOrder": 2,
    "_isFastLaunch": false,
    "category": "General purpose",
    "gpuNum": 0,
    "hideHardwareSpecs": false,
    "memoryGiB": 16,
    "name": "ml.t3.xlarge",
    "vcpuNum": 4
   },
   {
    "_defaultOrder": 3,
    "_isFastLaunch": false,
    "category": "General purpose",
    "gpuNum": 0,
    "hideHardwareSpecs": false,
    "memoryGiB": 32,
    "name": "ml.t3.2xlarge",
    "vcpuNum": 8
   },
   {
    "_defaultOrder": 4,
    "_isFastLaunch": true,
    "category": "General purpose",
    "gpuNum": 0,
    "hideHardwareSpecs": false,
    "memoryGiB": 8,
    "name": "ml.m5.large",
    "vcpuNum": 2
   },
   {
    "_defaultOrder": 5,
    "_isFastLaunch": false,
    "category": "General purpose",
    "gpuNum": 0,
    "hideHardwareSpecs": false,
    "memoryGiB": 16,
    "name": "ml.m5.xlarge",
    "vcpuNum": 4
   },
   {
    "_defaultOrder": 6,
    "_isFastLaunch": false,
    "category": "General purpose",
    "gpuNum": 0,
    "hideHardwareSpecs": false,
    "memoryGiB": 32,
    "name": "ml.m5.2xlarge",
    "vcpuNum": 8
   },
   {
    "_defaultOrder": 7,
    "_isFastLaunch": false,
    "category": "General purpose",
    "gpuNum": 0,
    "hideHardwareSpecs": false,
    "memoryGiB": 64,
    "name": "ml.m5.4xlarge",
    "vcpuNum": 16
   },
   {
    "_defaultOrder": 8,
    "_isFastLaunch": false,
    "category": "General purpose",
    "gpuNum": 0,
    "hideHardwareSpecs": false,
    "memoryGiB": 128,
    "name": "ml.m5.8xlarge",
    "vcpuNum": 32
   },
   {
    "_defaultOrder": 9,
    "_isFastLaunch": false,
    "category": "General purpose",
    "gpuNum": 0,
    "hideHardwareSpecs": false,
    "memoryGiB": 192,
    "name": "ml.m5.12xlarge",
    "vcpuNum": 48
   },
   {
    "_defaultOrder": 10,
    "_isFastLaunch": false,
    "category": "General purpose",
    "gpuNum": 0,
    "hideHardwareSpecs": false,
    "memoryGiB": 256,
    "name": "ml.m5.16xlarge",
    "vcpuNum": 64
   },
   {
    "_defaultOrder": 11,
    "_isFastLaunch": false,
    "category": "General purpose",
    "gpuNum": 0,
    "hideHardwareSpecs": false,
    "memoryGiB": 384,
    "name": "ml.m5.24xlarge",
    "vcpuNum": 96
   },
   {
    "_defaultOrder": 12,
    "_isFastLaunch": false,
    "category": "General purpose",
    "gpuNum": 0,
    "hideHardwareSpecs": false,
    "memoryGiB": 8,
    "name": "ml.m5d.large",
    "vcpuNum": 2
   },
   {
    "_defaultOrder": 13,
    "_isFastLaunch": false,
    "category": "General purpose",
    "gpuNum": 0,
    "hideHardwareSpecs": false,
    "memoryGiB": 16,
    "name": "ml.m5d.xlarge",
    "vcpuNum": 4
   },
   {
    "_defaultOrder": 14,
    "_isFastLaunch": false,
    "category": "General purpose",
    "gpuNum": 0,
    "hideHardwareSpecs": false,
    "memoryGiB": 32,
    "name": "ml.m5d.2xlarge",
    "vcpuNum": 8
   },
   {
    "_defaultOrder": 15,
    "_isFastLaunch": false,
    "category": "General purpose",
    "gpuNum": 0,
    "hideHardwareSpecs": false,
    "memoryGiB": 64,
    "name": "ml.m5d.4xlarge",
    "vcpuNum": 16
   },
   {
    "_defaultOrder": 16,
    "_isFastLaunch": false,
    "category": "General purpose",
    "gpuNum": 0,
    "hideHardwareSpecs": false,
    "memoryGiB": 128,
    "name": "ml.m5d.8xlarge",
    "vcpuNum": 32
   },
   {
    "_defaultOrder": 17,
    "_isFastLaunch": false,
    "category": "General purpose",
    "gpuNum": 0,
    "hideHardwareSpecs": false,
    "memoryGiB": 192,
    "name": "ml.m5d.12xlarge",
    "vcpuNum": 48
   },
   {
    "_defaultOrder": 18,
    "_isFastLaunch": false,
    "category": "General purpose",
    "gpuNum": 0,
    "hideHardwareSpecs": false,
    "memoryGiB": 256,
    "name": "ml.m5d.16xlarge",
    "vcpuNum": 64
   },
   {
    "_defaultOrder": 19,
    "_isFastLaunch": false,
    "category": "General purpose",
    "gpuNum": 0,
    "hideHardwareSpecs": false,
    "memoryGiB": 384,
    "name": "ml.m5d.24xlarge",
    "vcpuNum": 96
   },
   {
    "_defaultOrder": 20,
    "_isFastLaunch": false,
    "category": "General purpose",
    "gpuNum": 0,
    "hideHardwareSpecs": true,
    "memoryGiB": 0,
    "name": "ml.geospatial.interactive",
    "supportedImageNames": [
     "sagemaker-geospatial-v1-0"
    ],
    "vcpuNum": 0
   },
   {
    "_defaultOrder": 21,
    "_isFastLaunch": true,
    "category": "Compute optimized",
    "gpuNum": 0,
    "hideHardwareSpecs": false,
    "memoryGiB": 4,
    "name": "ml.c5.large",
    "vcpuNum": 2
   },
   {
    "_defaultOrder": 22,
    "_isFastLaunch": false,
    "category": "Compute optimized",
    "gpuNum": 0,
    "hideHardwareSpecs": false,
    "memoryGiB": 8,
    "name": "ml.c5.xlarge",
    "vcpuNum": 4
   },
   {
    "_defaultOrder": 23,
    "_isFastLaunch": false,
    "category": "Compute optimized",
    "gpuNum": 0,
    "hideHardwareSpecs": false,
    "memoryGiB": 16,
    "name": "ml.c5.2xlarge",
    "vcpuNum": 8
   },
   {
    "_defaultOrder": 24,
    "_isFastLaunch": false,
    "category": "Compute optimized",
    "gpuNum": 0,
    "hideHardwareSpecs": false,
    "memoryGiB": 32,
    "name": "ml.c5.4xlarge",
    "vcpuNum": 16
   },
   {
    "_defaultOrder": 25,
    "_isFastLaunch": false,
    "category": "Compute optimized",
    "gpuNum": 0,
    "hideHardwareSpecs": false,
    "memoryGiB": 72,
    "name": "ml.c5.9xlarge",
    "vcpuNum": 36
   },
   {
    "_defaultOrder": 26,
    "_isFastLaunch": false,
    "category": "Compute optimized",
    "gpuNum": 0,
    "hideHardwareSpecs": false,
    "memoryGiB": 96,
    "name": "ml.c5.12xlarge",
    "vcpuNum": 48
   },
   {
    "_defaultOrder": 27,
    "_isFastLaunch": false,
    "category": "Compute optimized",
    "gpuNum": 0,
    "hideHardwareSpecs": false,
    "memoryGiB": 144,
    "name": "ml.c5.18xlarge",
    "vcpuNum": 72
   },
   {
    "_defaultOrder": 28,
    "_isFastLaunch": false,
    "category": "Compute optimized",
    "gpuNum": 0,
    "hideHardwareSpecs": false,
    "memoryGiB": 192,
    "name": "ml.c5.24xlarge",
    "vcpuNum": 96
   },
   {
    "_defaultOrder": 29,
    "_isFastLaunch": true,
    "category": "Accelerated computing",
    "gpuNum": 1,
    "hideHardwareSpecs": false,
    "memoryGiB": 16,
    "name": "ml.g4dn.xlarge",
    "vcpuNum": 4
   },
   {
    "_defaultOrder": 30,
    "_isFastLaunch": false,
    "category": "Accelerated computing",
    "gpuNum": 1,
    "hideHardwareSpecs": false,
    "memoryGiB": 32,
    "name": "ml.g4dn.2xlarge",
    "vcpuNum": 8
   },
   {
    "_defaultOrder": 31,
    "_isFastLaunch": false,
    "category": "Accelerated computing",
    "gpuNum": 1,
    "hideHardwareSpecs": false,
    "memoryGiB": 64,
    "name": "ml.g4dn.4xlarge",
    "vcpuNum": 16
   },
   {
    "_defaultOrder": 32,
    "_isFastLaunch": false,
    "category": "Accelerated computing",
    "gpuNum": 1,
    "hideHardwareSpecs": false,
    "memoryGiB": 128,
    "name": "ml.g4dn.8xlarge",
    "vcpuNum": 32
   },
   {
    "_defaultOrder": 33,
    "_isFastLaunch": false,
    "category": "Accelerated computing",
    "gpuNum": 4,
    "hideHardwareSpecs": false,
    "memoryGiB": 192,
    "name": "ml.g4dn.12xlarge",
    "vcpuNum": 48
   },
   {
    "_defaultOrder": 34,
    "_isFastLaunch": false,
    "category": "Accelerated computing",
    "gpuNum": 1,
    "hideHardwareSpecs": false,
    "memoryGiB": 256,
    "name": "ml.g4dn.16xlarge",
    "vcpuNum": 64
   },
   {
    "_defaultOrder": 35,
    "_isFastLaunch": false,
    "category": "Accelerated computing",
    "gpuNum": 1,
    "hideHardwareSpecs": false,
    "memoryGiB": 61,
    "name": "ml.p3.2xlarge",
    "vcpuNum": 8
   },
   {
    "_defaultOrder": 36,
    "_isFastLaunch": false,
    "category": "Accelerated computing",
    "gpuNum": 4,
    "hideHardwareSpecs": false,
    "memoryGiB": 244,
    "name": "ml.p3.8xlarge",
    "vcpuNum": 32
   },
   {
    "_defaultOrder": 37,
    "_isFastLaunch": false,
    "category": "Accelerated computing",
    "gpuNum": 8,
    "hideHardwareSpecs": false,
    "memoryGiB": 488,
    "name": "ml.p3.16xlarge",
    "vcpuNum": 64
   },
   {
    "_defaultOrder": 38,
    "_isFastLaunch": false,
    "category": "Accelerated computing",
    "gpuNum": 8,
    "hideHardwareSpecs": false,
    "memoryGiB": 768,
    "name": "ml.p3dn.24xlarge",
    "vcpuNum": 96
   },
   {
    "_defaultOrder": 39,
    "_isFastLaunch": false,
    "category": "Memory Optimized",
    "gpuNum": 0,
    "hideHardwareSpecs": false,
    "memoryGiB": 16,
    "name": "ml.r5.large",
    "vcpuNum": 2
   },
   {
    "_defaultOrder": 40,
    "_isFastLaunch": false,
    "category": "Memory Optimized",
    "gpuNum": 0,
    "hideHardwareSpecs": false,
    "memoryGiB": 32,
    "name": "ml.r5.xlarge",
    "vcpuNum": 4
   },
   {
    "_defaultOrder": 41,
    "_isFastLaunch": false,
    "category": "Memory Optimized",
    "gpuNum": 0,
    "hideHardwareSpecs": false,
    "memoryGiB": 64,
    "name": "ml.r5.2xlarge",
    "vcpuNum": 8
   },
   {
    "_defaultOrder": 42,
    "_isFastLaunch": false,
    "category": "Memory Optimized",
    "gpuNum": 0,
    "hideHardwareSpecs": false,
    "memoryGiB": 128,
    "name": "ml.r5.4xlarge",
    "vcpuNum": 16
   },
   {
    "_defaultOrder": 43,
    "_isFastLaunch": false,
    "category": "Memory Optimized",
    "gpuNum": 0,
    "hideHardwareSpecs": false,
    "memoryGiB": 256,
    "name": "ml.r5.8xlarge",
    "vcpuNum": 32
   },
   {
    "_defaultOrder": 44,
    "_isFastLaunch": false,
    "category": "Memory Optimized",
    "gpuNum": 0,
    "hideHardwareSpecs": false,
    "memoryGiB": 384,
    "name": "ml.r5.12xlarge",
    "vcpuNum": 48
   },
   {
    "_defaultOrder": 45,
    "_isFastLaunch": false,
    "category": "Memory Optimized",
    "gpuNum": 0,
    "hideHardwareSpecs": false,
    "memoryGiB": 512,
    "name": "ml.r5.16xlarge",
    "vcpuNum": 64
   },
   {
    "_defaultOrder": 46,
    "_isFastLaunch": false,
    "category": "Memory Optimized",
    "gpuNum": 0,
    "hideHardwareSpecs": false,
    "memoryGiB": 768,
    "name": "ml.r5.24xlarge",
    "vcpuNum": 96
   },
   {
    "_defaultOrder": 47,
    "_isFastLaunch": false,
    "category": "Accelerated computing",
    "gpuNum": 1,
    "hideHardwareSpecs": false,
    "memoryGiB": 16,
    "name": "ml.g5.xlarge",
    "vcpuNum": 4
   },
   {
    "_defaultOrder": 48,
    "_isFastLaunch": false,
    "category": "Accelerated computing",
    "gpuNum": 1,
    "hideHardwareSpecs": false,
    "memoryGiB": 32,
    "name": "ml.g5.2xlarge",
    "vcpuNum": 8
   },
   {
    "_defaultOrder": 49,
    "_isFastLaunch": false,
    "category": "Accelerated computing",
    "gpuNum": 1,
    "hideHardwareSpecs": false,
    "memoryGiB": 64,
    "name": "ml.g5.4xlarge",
    "vcpuNum": 16
   },
   {
    "_defaultOrder": 50,
    "_isFastLaunch": false,
    "category": "Accelerated computing",
    "gpuNum": 1,
    "hideHardwareSpecs": false,
    "memoryGiB": 128,
    "name": "ml.g5.8xlarge",
    "vcpuNum": 32
   },
   {
    "_defaultOrder": 51,
    "_isFastLaunch": false,
    "category": "Accelerated computing",
    "gpuNum": 1,
    "hideHardwareSpecs": false,
    "memoryGiB": 256,
    "name": "ml.g5.16xlarge",
    "vcpuNum": 64
   },
   {
    "_defaultOrder": 52,
    "_isFastLaunch": false,
    "category": "Accelerated computing",
    "gpuNum": 4,
    "hideHardwareSpecs": false,
    "memoryGiB": 192,
    "name": "ml.g5.12xlarge",
    "vcpuNum": 48
   },
   {
    "_defaultOrder": 53,
    "_isFastLaunch": false,
    "category": "Accelerated computing",
    "gpuNum": 4,
    "hideHardwareSpecs": false,
    "memoryGiB": 384,
    "name": "ml.g5.24xlarge",
    "vcpuNum": 96
   },
   {
    "_defaultOrder": 54,
    "_isFastLaunch": false,
    "category": "Accelerated computing",
    "gpuNum": 8,
    "hideHardwareSpecs": false,
    "memoryGiB": 768,
    "name": "ml.g5.48xlarge",
    "vcpuNum": 192
   },
   {
    "_defaultOrder": 55,
    "_isFastLaunch": false,
    "category": "Accelerated computing",
    "gpuNum": 8,
    "hideHardwareSpecs": false,
    "memoryGiB": 1152,
    "name": "ml.p4d.24xlarge",
    "vcpuNum": 96
   },
   {
    "_defaultOrder": 56,
    "_isFastLaunch": false,
    "category": "Accelerated computing",
    "gpuNum": 8,
    "hideHardwareSpecs": false,
    "memoryGiB": 1152,
    "name": "ml.p4de.24xlarge",
    "vcpuNum": 96
   },
   {
    "_defaultOrder": 57,
    "_isFastLaunch": false,
    "category": "Accelerated computing",
    "gpuNum": 0,
    "hideHardwareSpecs": false,
    "memoryGiB": 32,
    "name": "ml.trn1.2xlarge",
    "vcpuNum": 8
   },
   {
    "_defaultOrder": 58,
    "_isFastLaunch": false,
    "category": "Accelerated computing",
    "gpuNum": 0,
    "hideHardwareSpecs": false,
    "memoryGiB": 512,
    "name": "ml.trn1.32xlarge",
    "vcpuNum": 128
   },
   {
    "_defaultOrder": 59,
    "_isFastLaunch": false,
    "category": "Accelerated computing",
    "gpuNum": 0,
    "hideHardwareSpecs": false,
    "memoryGiB": 512,
    "name": "ml.trn1n.32xlarge",
    "vcpuNum": 128
   }
  ],
  "instance_type": "ml.t3.medium",
  "kernelspec": {
   "display_name": "Python 3 (Data Science 3.0)",
   "language": "python",
   "name": "python3__SAGEMAKER_INTERNAL__arn:aws:sagemaker:us-east-1:081325390199:image/sagemaker-data-science-310-v1"
  },
  "language_info": {
   "codemirror_mode": {
    "name": "ipython",
    "version": 3
   },
   "file_extension": ".py",
   "mimetype": "text/x-python",
   "name": "python",
   "nbconvert_exporter": "python",
   "pygments_lexer": "ipython3",
   "version": "3.10.6"
  }
 },
 "nbformat": 4,
 "nbformat_minor": 5
}
